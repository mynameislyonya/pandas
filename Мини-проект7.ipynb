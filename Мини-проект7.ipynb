{
 "cells": [
  {
   "cell_type": "code",
   "execution_count": 2,
   "id": "17c572af",
   "metadata": {},
   "outputs": [],
   "source": [
    "import pandas as pd"
   ]
  },
  {
   "cell_type": "code",
   "execution_count": 3,
   "id": "3bff1300",
   "metadata": {},
   "outputs": [],
   "source": [
    "bookings = pd.read_csv('https://stepik.org/media/attachments/lesson/360344/bookings.csv', sep =\";\")"
   ]
  },
  {
   "cell_type": "code",
   "execution_count": 4,
   "id": "3cdc919d",
   "metadata": {},
   "outputs": [
    {
     "data": {
      "text/html": [
       "<div>\n",
       "<style scoped>\n",
       "    .dataframe tbody tr th:only-of-type {\n",
       "        vertical-align: middle;\n",
       "    }\n",
       "\n",
       "    .dataframe tbody tr th {\n",
       "        vertical-align: top;\n",
       "    }\n",
       "\n",
       "    .dataframe thead th {\n",
       "        text-align: right;\n",
       "    }\n",
       "</style>\n",
       "<table border=\"1\" class=\"dataframe\">\n",
       "  <thead>\n",
       "    <tr style=\"text-align: right;\">\n",
       "      <th></th>\n",
       "      <th>Hotel</th>\n",
       "      <th>Is Canceled</th>\n",
       "      <th>Lead Time</th>\n",
       "      <th>arrival full date</th>\n",
       "      <th>Arrival Date Year</th>\n",
       "      <th>Arrival Date Month</th>\n",
       "      <th>Arrival Date Week Number</th>\n",
       "      <th>Arrival Date Day of Month</th>\n",
       "      <th>Stays in Weekend nights</th>\n",
       "      <th>Stays in week nights</th>\n",
       "      <th>...</th>\n",
       "      <th>Adults</th>\n",
       "      <th>Children</th>\n",
       "      <th>Babies</th>\n",
       "      <th>Meal</th>\n",
       "      <th>Country</th>\n",
       "      <th>Reserved Room Type</th>\n",
       "      <th>Assigned room type</th>\n",
       "      <th>customer type</th>\n",
       "      <th>Reservation Status</th>\n",
       "      <th>Reservation status_date</th>\n",
       "    </tr>\n",
       "  </thead>\n",
       "  <tbody>\n",
       "    <tr>\n",
       "      <th>0</th>\n",
       "      <td>Resort Hotel</td>\n",
       "      <td>0</td>\n",
       "      <td>342</td>\n",
       "      <td>2015-07-01</td>\n",
       "      <td>2015</td>\n",
       "      <td>July</td>\n",
       "      <td>27</td>\n",
       "      <td>1</td>\n",
       "      <td>0</td>\n",
       "      <td>0</td>\n",
       "      <td>...</td>\n",
       "      <td>2</td>\n",
       "      <td>0.0</td>\n",
       "      <td>0</td>\n",
       "      <td>BB</td>\n",
       "      <td>PRT</td>\n",
       "      <td>C</td>\n",
       "      <td>C</td>\n",
       "      <td>Transient</td>\n",
       "      <td>Check-Out</td>\n",
       "      <td>2015-07-01</td>\n",
       "    </tr>\n",
       "    <tr>\n",
       "      <th>1</th>\n",
       "      <td>Resort Hotel</td>\n",
       "      <td>0</td>\n",
       "      <td>737</td>\n",
       "      <td>2015-07-01</td>\n",
       "      <td>2015</td>\n",
       "      <td>July</td>\n",
       "      <td>27</td>\n",
       "      <td>1</td>\n",
       "      <td>0</td>\n",
       "      <td>0</td>\n",
       "      <td>...</td>\n",
       "      <td>2</td>\n",
       "      <td>0.0</td>\n",
       "      <td>0</td>\n",
       "      <td>BB</td>\n",
       "      <td>PRT</td>\n",
       "      <td>C</td>\n",
       "      <td>C</td>\n",
       "      <td>Transient</td>\n",
       "      <td>Check-Out</td>\n",
       "      <td>2015-07-01</td>\n",
       "    </tr>\n",
       "    <tr>\n",
       "      <th>2</th>\n",
       "      <td>Resort Hotel</td>\n",
       "      <td>0</td>\n",
       "      <td>7</td>\n",
       "      <td>2015-07-01</td>\n",
       "      <td>2015</td>\n",
       "      <td>July</td>\n",
       "      <td>27</td>\n",
       "      <td>1</td>\n",
       "      <td>0</td>\n",
       "      <td>1</td>\n",
       "      <td>...</td>\n",
       "      <td>1</td>\n",
       "      <td>0.0</td>\n",
       "      <td>0</td>\n",
       "      <td>BB</td>\n",
       "      <td>GBR</td>\n",
       "      <td>A</td>\n",
       "      <td>C</td>\n",
       "      <td>Transient</td>\n",
       "      <td>Check-Out</td>\n",
       "      <td>2015-07-02</td>\n",
       "    </tr>\n",
       "    <tr>\n",
       "      <th>3</th>\n",
       "      <td>Resort Hotel</td>\n",
       "      <td>0</td>\n",
       "      <td>13</td>\n",
       "      <td>2015-07-01</td>\n",
       "      <td>2015</td>\n",
       "      <td>July</td>\n",
       "      <td>27</td>\n",
       "      <td>1</td>\n",
       "      <td>0</td>\n",
       "      <td>1</td>\n",
       "      <td>...</td>\n",
       "      <td>1</td>\n",
       "      <td>0.0</td>\n",
       "      <td>0</td>\n",
       "      <td>BB</td>\n",
       "      <td>GBR</td>\n",
       "      <td>A</td>\n",
       "      <td>A</td>\n",
       "      <td>Transient</td>\n",
       "      <td>Check-Out</td>\n",
       "      <td>2015-07-02</td>\n",
       "    </tr>\n",
       "    <tr>\n",
       "      <th>4</th>\n",
       "      <td>Resort Hotel</td>\n",
       "      <td>0</td>\n",
       "      <td>14</td>\n",
       "      <td>2015-07-01</td>\n",
       "      <td>2015</td>\n",
       "      <td>July</td>\n",
       "      <td>27</td>\n",
       "      <td>1</td>\n",
       "      <td>0</td>\n",
       "      <td>2</td>\n",
       "      <td>...</td>\n",
       "      <td>2</td>\n",
       "      <td>0.0</td>\n",
       "      <td>0</td>\n",
       "      <td>BB</td>\n",
       "      <td>GBR</td>\n",
       "      <td>A</td>\n",
       "      <td>A</td>\n",
       "      <td>Transient</td>\n",
       "      <td>Check-Out</td>\n",
       "      <td>2015-07-03</td>\n",
       "    </tr>\n",
       "    <tr>\n",
       "      <th>...</th>\n",
       "      <td>...</td>\n",
       "      <td>...</td>\n",
       "      <td>...</td>\n",
       "      <td>...</td>\n",
       "      <td>...</td>\n",
       "      <td>...</td>\n",
       "      <td>...</td>\n",
       "      <td>...</td>\n",
       "      <td>...</td>\n",
       "      <td>...</td>\n",
       "      <td>...</td>\n",
       "      <td>...</td>\n",
       "      <td>...</td>\n",
       "      <td>...</td>\n",
       "      <td>...</td>\n",
       "      <td>...</td>\n",
       "      <td>...</td>\n",
       "      <td>...</td>\n",
       "      <td>...</td>\n",
       "      <td>...</td>\n",
       "      <td>...</td>\n",
       "    </tr>\n",
       "    <tr>\n",
       "      <th>119385</th>\n",
       "      <td>City Hotel</td>\n",
       "      <td>0</td>\n",
       "      <td>23</td>\n",
       "      <td>2017-08-30</td>\n",
       "      <td>2017</td>\n",
       "      <td>August</td>\n",
       "      <td>35</td>\n",
       "      <td>30</td>\n",
       "      <td>2</td>\n",
       "      <td>5</td>\n",
       "      <td>...</td>\n",
       "      <td>2</td>\n",
       "      <td>0.0</td>\n",
       "      <td>0</td>\n",
       "      <td>BB</td>\n",
       "      <td>BEL</td>\n",
       "      <td>A</td>\n",
       "      <td>A</td>\n",
       "      <td>Transient</td>\n",
       "      <td>Check-Out</td>\n",
       "      <td>2017-09-06</td>\n",
       "    </tr>\n",
       "    <tr>\n",
       "      <th>119386</th>\n",
       "      <td>City Hotel</td>\n",
       "      <td>0</td>\n",
       "      <td>102</td>\n",
       "      <td>2017-08-31</td>\n",
       "      <td>2017</td>\n",
       "      <td>August</td>\n",
       "      <td>35</td>\n",
       "      <td>31</td>\n",
       "      <td>2</td>\n",
       "      <td>5</td>\n",
       "      <td>...</td>\n",
       "      <td>3</td>\n",
       "      <td>0.0</td>\n",
       "      <td>0</td>\n",
       "      <td>BB</td>\n",
       "      <td>FRA</td>\n",
       "      <td>E</td>\n",
       "      <td>E</td>\n",
       "      <td>Transient</td>\n",
       "      <td>Check-Out</td>\n",
       "      <td>2017-09-07</td>\n",
       "    </tr>\n",
       "    <tr>\n",
       "      <th>119387</th>\n",
       "      <td>City Hotel</td>\n",
       "      <td>0</td>\n",
       "      <td>34</td>\n",
       "      <td>2017-08-31</td>\n",
       "      <td>2017</td>\n",
       "      <td>August</td>\n",
       "      <td>35</td>\n",
       "      <td>31</td>\n",
       "      <td>2</td>\n",
       "      <td>5</td>\n",
       "      <td>...</td>\n",
       "      <td>2</td>\n",
       "      <td>0.0</td>\n",
       "      <td>0</td>\n",
       "      <td>BB</td>\n",
       "      <td>DEU</td>\n",
       "      <td>D</td>\n",
       "      <td>D</td>\n",
       "      <td>Transient</td>\n",
       "      <td>Check-Out</td>\n",
       "      <td>2017-09-07</td>\n",
       "    </tr>\n",
       "    <tr>\n",
       "      <th>119388</th>\n",
       "      <td>City Hotel</td>\n",
       "      <td>0</td>\n",
       "      <td>109</td>\n",
       "      <td>2017-08-31</td>\n",
       "      <td>2017</td>\n",
       "      <td>August</td>\n",
       "      <td>35</td>\n",
       "      <td>31</td>\n",
       "      <td>2</td>\n",
       "      <td>5</td>\n",
       "      <td>...</td>\n",
       "      <td>2</td>\n",
       "      <td>0.0</td>\n",
       "      <td>0</td>\n",
       "      <td>BB</td>\n",
       "      <td>GBR</td>\n",
       "      <td>A</td>\n",
       "      <td>A</td>\n",
       "      <td>Transient</td>\n",
       "      <td>Check-Out</td>\n",
       "      <td>2017-09-07</td>\n",
       "    </tr>\n",
       "    <tr>\n",
       "      <th>119389</th>\n",
       "      <td>City Hotel</td>\n",
       "      <td>0</td>\n",
       "      <td>205</td>\n",
       "      <td>2017-08-29</td>\n",
       "      <td>2017</td>\n",
       "      <td>August</td>\n",
       "      <td>35</td>\n",
       "      <td>29</td>\n",
       "      <td>2</td>\n",
       "      <td>7</td>\n",
       "      <td>...</td>\n",
       "      <td>2</td>\n",
       "      <td>0.0</td>\n",
       "      <td>0</td>\n",
       "      <td>HB</td>\n",
       "      <td>DEU</td>\n",
       "      <td>A</td>\n",
       "      <td>A</td>\n",
       "      <td>Transient</td>\n",
       "      <td>Check-Out</td>\n",
       "      <td>2017-09-07</td>\n",
       "    </tr>\n",
       "  </tbody>\n",
       "</table>\n",
       "<p>119390 rows × 21 columns</p>\n",
       "</div>"
      ],
      "text/plain": [
       "               Hotel  Is Canceled  Lead Time arrival full date  \\\n",
       "0       Resort Hotel            0        342        2015-07-01   \n",
       "1       Resort Hotel            0        737        2015-07-01   \n",
       "2       Resort Hotel            0          7        2015-07-01   \n",
       "3       Resort Hotel            0         13        2015-07-01   \n",
       "4       Resort Hotel            0         14        2015-07-01   \n",
       "...              ...          ...        ...               ...   \n",
       "119385    City Hotel            0         23        2017-08-30   \n",
       "119386    City Hotel            0        102        2017-08-31   \n",
       "119387    City Hotel            0         34        2017-08-31   \n",
       "119388    City Hotel            0        109        2017-08-31   \n",
       "119389    City Hotel            0        205        2017-08-29   \n",
       "\n",
       "        Arrival Date Year Arrival Date Month  Arrival Date Week Number  \\\n",
       "0                    2015               July                        27   \n",
       "1                    2015               July                        27   \n",
       "2                    2015               July                        27   \n",
       "3                    2015               July                        27   \n",
       "4                    2015               July                        27   \n",
       "...                   ...                ...                       ...   \n",
       "119385               2017             August                        35   \n",
       "119386               2017             August                        35   \n",
       "119387               2017             August                        35   \n",
       "119388               2017             August                        35   \n",
       "119389               2017             August                        35   \n",
       "\n",
       "        Arrival Date Day of Month  Stays in Weekend nights  \\\n",
       "0                               1                        0   \n",
       "1                               1                        0   \n",
       "2                               1                        0   \n",
       "3                               1                        0   \n",
       "4                               1                        0   \n",
       "...                           ...                      ...   \n",
       "119385                         30                        2   \n",
       "119386                         31                        2   \n",
       "119387                         31                        2   \n",
       "119388                         31                        2   \n",
       "119389                         29                        2   \n",
       "\n",
       "        Stays in week nights  ...  Adults  Children  Babies  Meal Country  \\\n",
       "0                          0  ...       2       0.0       0    BB     PRT   \n",
       "1                          0  ...       2       0.0       0    BB     PRT   \n",
       "2                          1  ...       1       0.0       0    BB     GBR   \n",
       "3                          1  ...       1       0.0       0    BB     GBR   \n",
       "4                          2  ...       2       0.0       0    BB     GBR   \n",
       "...                      ...  ...     ...       ...     ...   ...     ...   \n",
       "119385                     5  ...       2       0.0       0    BB     BEL   \n",
       "119386                     5  ...       3       0.0       0    BB     FRA   \n",
       "119387                     5  ...       2       0.0       0    BB     DEU   \n",
       "119388                     5  ...       2       0.0       0    BB     GBR   \n",
       "119389                     7  ...       2       0.0       0    HB     DEU   \n",
       "\n",
       "       Reserved Room Type Assigned room type customer type Reservation Status  \\\n",
       "0                       C                  C     Transient          Check-Out   \n",
       "1                       C                  C     Transient          Check-Out   \n",
       "2                       A                  C     Transient          Check-Out   \n",
       "3                       A                  A     Transient          Check-Out   \n",
       "4                       A                  A     Transient          Check-Out   \n",
       "...                   ...                ...           ...                ...   \n",
       "119385                  A                  A     Transient          Check-Out   \n",
       "119386                  E                  E     Transient          Check-Out   \n",
       "119387                  D                  D     Transient          Check-Out   \n",
       "119388                  A                  A     Transient          Check-Out   \n",
       "119389                  A                  A     Transient          Check-Out   \n",
       "\n",
       "       Reservation status_date  \n",
       "0                   2015-07-01  \n",
       "1                   2015-07-01  \n",
       "2                   2015-07-02  \n",
       "3                   2015-07-02  \n",
       "4                   2015-07-03  \n",
       "...                        ...  \n",
       "119385              2017-09-06  \n",
       "119386              2017-09-07  \n",
       "119387              2017-09-07  \n",
       "119388              2017-09-07  \n",
       "119389              2017-09-07  \n",
       "\n",
       "[119390 rows x 21 columns]"
      ]
     },
     "execution_count": 4,
     "metadata": {},
     "output_type": "execute_result"
    }
   ],
   "source": [
    "bookings"
   ]
  },
  {
   "cell_type": "code",
   "execution_count": 5,
   "id": "52efc6c0",
   "metadata": {},
   "outputs": [],
   "source": [
    "bookings.columns = map(str.lower, bookings.columns)"
   ]
  },
  {
   "cell_type": "code",
   "execution_count": 6,
   "id": "983f4a74",
   "metadata": {},
   "outputs": [],
   "source": [
    "bookings_head = bookings.head(7)"
   ]
  },
  {
   "cell_type": "code",
   "execution_count": 7,
   "id": "e79d2d46",
   "metadata": {},
   "outputs": [
    {
     "data": {
      "text/plain": [
       "object     10\n",
       "int64      10\n",
       "float64     1\n",
       "dtype: int64"
      ]
     },
     "execution_count": 7,
     "metadata": {},
     "output_type": "execute_result"
    }
   ],
   "source": [
    "bookings.dtypes.value_counts()"
   ]
  },
  {
   "cell_type": "markdown",
   "id": "8a7b5c1b",
   "metadata": {},
   "source": [
    "Как вы уже могли заметить, при сборе датасета произошла небольшая ошибка, и названия колонок были записаны в неудобном для дальнейшей работы формате. Исправьте ситуацию, приведя названия столбцов к нижнему регистру и заменив пробелы на знак нижнего подчеркивания. \n",
    "Например: Is Canceled -> is_canceled"
   ]
  },
  {
   "cell_type": "code",
   "execution_count": 8,
   "id": "8dd87ee2",
   "metadata": {},
   "outputs": [],
   "source": [
    "bookings.columns= bookings.columns.str.replace(' ', '_')"
   ]
  },
  {
   "cell_type": "markdown",
   "id": "808576db",
   "metadata": {},
   "source": [
    "Перейдем к исследованию данных! Пользователи из каких стран совершили наибольшее число успешных бронирований? Бронирование считается успешным, если в дальнейшем не было отменено (переменная is_canceled)."
   ]
  },
  {
   "cell_type": "code",
   "execution_count": 9,
   "id": "3e977d75",
   "metadata": {},
   "outputs": [
    {
     "data": {
      "text/plain": [
       "country\n",
       "PRT    21071\n",
       "GBR     9676\n",
       "FRA     8481\n",
       "ESP     6391\n",
       "DEU     6069\n",
       "       ...  \n",
       "SMR        1\n",
       "MLI        1\n",
       "SLE        1\n",
       "MAC        1\n",
       "PLW        1\n",
       "Name: is_canceled, Length: 165, dtype: int64"
      ]
     },
     "execution_count": 9,
     "metadata": {},
     "output_type": "execute_result"
    }
   ],
   "source": [
    "bookings[bookings.is_canceled==0].groupby('country').is_canceled.count().sort_values(ascending=False)"
   ]
  },
  {
   "cell_type": "markdown",
   "id": "b7311031",
   "metadata": {},
   "source": [
    "На сколько ночей (stays_total_nights)  в среднем бронируют отели типа City Hotel? Resort Hotel? Запишите полученные значения в пропуски с точностью до 2 знаков после точки."
   ]
  },
  {
   "cell_type": "code",
   "execution_count": 10,
   "id": "86db104f",
   "metadata": {},
   "outputs": [
    {
     "data": {
      "text/plain": [
       "hotel\n",
       "City Hotel      2.98\n",
       "Resort Hotel    4.32\n",
       "Name: stays_total_nights, dtype: float64"
      ]
     },
     "execution_count": 10,
     "metadata": {},
     "output_type": "execute_result"
    }
   ],
   "source": [
    "bookings.groupby('hotel').stays_total_nights.mean().round(2)\n"
   ]
  },
  {
   "cell_type": "markdown",
   "id": "b308b4ac",
   "metadata": {},
   "source": [
    "Иногда тип номера, присвоенного клиенту (assigned_room_type), отличается от изначально забронированного (reserved_room_type). Такое может произойти, например, по причине овербукинга.\n",
    "\n",
    "Сколько подобных наблюдений встретилось в датасете?\n",
    "\n",
    "*отмена бронирования также считается"
   ]
  },
  {
   "cell_type": "code",
   "execution_count": 11,
   "id": "5ea13a53",
   "metadata": {},
   "outputs": [
    {
     "data": {
      "text/plain": [
       "14917"
      ]
     },
     "execution_count": 11,
     "metadata": {},
     "output_type": "execute_result"
    }
   ],
   "source": [
    "bookings[bookings.reserved_room_type!=bookings.assigned_room_type].reserved_room_type.count()"
   ]
  },
  {
   "cell_type": "code",
   "execution_count": 12,
   "id": "2441c7a4",
   "metadata": {},
   "outputs": [
    {
     "data": {
      "text/plain": [
       "arrival_date_year  arrival_date_month\n",
       "2015               September             5114\n",
       "                   October               4957\n",
       "                   August                3889\n",
       "                   December              2920\n",
       "                   July                  2776\n",
       "                   November              2340\n",
       "2016               October               6203\n",
       "                   May                   5478\n",
       "                   April                 5428\n",
       "                   September             5394\n",
       "                   June                  5292\n",
       "                   August                5063\n",
       "                   March                 4824\n",
       "                   July                  4572\n",
       "                   November              4454\n",
       "                   February              3891\n",
       "                   December              3860\n",
       "                   January               2248\n",
       "2017               May                   6313\n",
       "                   April                 5661\n",
       "                   June                  5647\n",
       "                   July                  5313\n",
       "                   March                 4970\n",
       "                   August                4925\n",
       "                   February              4177\n",
       "                   January               3681\n",
       "Name: arrival_date_month, dtype: int64"
      ]
     },
     "execution_count": 12,
     "metadata": {},
     "output_type": "execute_result"
    }
   ],
   "source": [
    "bookings.groupby('arrival_date_year').arrival_date_month.value_counts()"
   ]
  },
  {
   "cell_type": "code",
   "execution_count": 13,
   "id": "9832d022",
   "metadata": {},
   "outputs": [
    {
     "data": {
      "text/plain": [
       "arrival_date_year  arrival_date_month\n",
       "2017               May                   5768\n",
       "Name: is_canceled, dtype: int64"
      ]
     },
     "execution_count": 13,
     "metadata": {},
     "output_type": "execute_result"
    }
   ],
   "source": [
    "bookings[(bookings.hotel == 'City Hotel')|(bookings.is_canceled==0)].groupby(['arrival_date_year','arrival_date_month']).is_canceled.count().nlargest(1)"
   ]
  },
  {
   "cell_type": "markdown",
   "id": "3bdca808",
   "metadata": {},
   "source": [
    "Посмотрите на числовые характеристики трёх колонок: adults, children и babies. Какая из них имеет наибольшее среднее значение?"
   ]
  },
  {
   "cell_type": "code",
   "execution_count": 15,
   "id": "524fca90",
   "metadata": {},
   "outputs": [
    {
     "name": "stdout",
     "output_type": "stream",
     "text": [
      "1.8564033838679956\n",
      "0.10388990333874994\n",
      "0.007948739425412514\n"
     ]
    }
   ],
   "source": [
    "print(bookings.adults.mean())\n",
    "print(bookings.children.mean())\n",
    "print(bookings.babies.mean())"
   ]
  },
  {
   "cell_type": "code",
   "execution_count": 16,
   "id": "0fea13fd",
   "metadata": {},
   "outputs": [
    {
     "data": {
      "text/plain": [
       "hotel                         object\n",
       "is_canceled                    int64\n",
       "lead_time                      int64\n",
       "arrival_full_date             object\n",
       "arrival_date_year              int64\n",
       "arrival_date_month            object\n",
       "arrival_date_week_number       int64\n",
       "arrival_date_day_of_month      int64\n",
       "stays_in_weekend_nights        int64\n",
       "stays_in_week_nights           int64\n",
       "stays_total_nights             int64\n",
       "adults                         int64\n",
       "children                     float64\n",
       "babies                         int64\n",
       "meal                          object\n",
       "country                       object\n",
       "reserved_room_type            object\n",
       "assigned_room_type            object\n",
       "customer_type                 object\n",
       "reservation_status            object\n",
       "reservation_status_date       object\n",
       "dtype: object"
      ]
     },
     "execution_count": 16,
     "metadata": {},
     "output_type": "execute_result"
    }
   ],
   "source": [
    "bookings.dtypes"
   ]
  },
  {
   "cell_type": "code",
   "execution_count": 18,
   "id": "a80a852d",
   "metadata": {},
   "outputs": [],
   "source": [
    "bookings['babies'] = bookings['babies'].astype(float)"
   ]
  },
  {
   "cell_type": "code",
   "execution_count": 19,
   "id": "b7a16306",
   "metadata": {},
   "outputs": [],
   "source": [
    "bookings['total_kids'] = bookings['babies'] + bookings['children'] "
   ]
  },
  {
   "cell_type": "markdown",
   "id": "860cfad6",
   "metadata": {},
   "source": [
    "Создайте колонку total_kids, объединив столбцы children и babies. Для отелей какого типа среднее значение переменной оказалось наибольшим?\n",
    "\n",
    "City hotel – отель находится в городе\n",
    "Resort hotel – отель курортный\n",
    "В качестве ответа укажите наибольшее среднее total_kids, округлив до 2 знаков после точки."
   ]
  },
  {
   "cell_type": "code",
   "execution_count": 20,
   "id": "482c7421",
   "metadata": {},
   "outputs": [
    {
     "data": {
      "text/plain": [
       "hotel\n",
       "City Hotel      0.10\n",
       "Resort Hotel    0.14\n",
       "Name: total_kids, dtype: float64"
      ]
     },
     "execution_count": 20,
     "metadata": {},
     "output_type": "execute_result"
    }
   ],
   "source": [
    "bookings.groupby('hotel').total_kids.mean().round(2)"
   ]
  },
  {
   "cell_type": "code",
   "execution_count": 21,
   "id": "a2d34465",
   "metadata": {},
   "outputs": [],
   "source": [
    "bookings['has_kids']= bookings.total_kids.apply (lambda x: 'True' if x > 0 else 'False')"
   ]
  },
  {
   "cell_type": "markdown",
   "id": "378690b3",
   "metadata": {},
   "source": [
    "Не все бронирования завершились успешно (is_canceled), поэтому можно посчитать, сколько клиентов было потеряно в процессе. Иными словами, посчитать метрику под названием Churn Rate.\n",
    "\n",
    "Churn rate (отток, коэффициент оттока) – это процент подписчиков (например, на push-уведомления от сайта), которые отписались от канала коммуникации, отказались от услуг сервиса в течение определенного периода времени. Иными словами, представляет собой отношение количества ушедших пользователей к общему количеству пользователей, выраженное в процентах.\n",
    "\n",
    "В нашем случае Churn Rate - это процент клиентов, которые отменили бронирование. Давайте посмотрим, как эта метрика связана с наличием детей у клиентов!\n",
    "\n",
    "Создайте колонку has_kids, которая принимает значение True, если клиент при бронировании указал хотя бы одного ребенка (total_kids), в противном случае – False. Далее проверьте, среди какой группы пользователей показатель оттока выше. \n",
    "\n",
    "В качестве ответа укажите наибольший % оттока, округленный до 2 знаков после точки (то есть доля 0.24563 будет 24.56% и в ответ пойдёт 24.56)"
   ]
  },
  {
   "cell_type": "code",
   "execution_count": 22,
   "id": "da45a847",
   "metadata": {},
   "outputs": [
    {
     "data": {
      "text/plain": [
       "has_kids\n",
       "False    0.372213\n",
       "True     0.029612\n",
       "Name: is_canceled, dtype: float64"
      ]
     },
     "execution_count": 22,
     "metadata": {},
     "output_type": "execute_result"
    }
   ],
   "source": [
    "(bookings[bookings.is_canceled==1].groupby('has_kids').is_canceled.count())/bookings[bookings.has_kids=='False'].shape[0]"
   ]
  }
 ],
 "metadata": {
  "kernelspec": {
   "display_name": "Python 3 (ipykernel)",
   "language": "python",
   "name": "python3"
  },
  "language_info": {
   "codemirror_mode": {
    "name": "ipython",
    "version": 3
   },
   "file_extension": ".py",
   "mimetype": "text/x-python",
   "name": "python",
   "nbconvert_exporter": "python",
   "pygments_lexer": "ipython3",
   "version": "3.9.13"
  }
 },
 "nbformat": 4,
 "nbformat_minor": 5
}
